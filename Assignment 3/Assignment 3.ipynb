{
 "cells": [
  {
   "cell_type": "code",
   "execution_count": 2,
   "metadata": {},
   "outputs": [],
   "source": [
    "import multiprocessing\n",
    "from gensim.models import Word2Vec\n",
    "import random\n",
    "import sys"
   ]
  },
  {
   "cell_type": "code",
   "execution_count": 12,
   "metadata": {},
   "outputs": [],
   "source": [
    "special_characters = '[\\'\\\",.-?!\"#$%&(*)+/:;<=>@\\[\\]\\\\\\\\^`{|}~\\t\\n]+' \n",
    "\n",
    "def tokenize(text, characters):\n",
    "    # Remove the special characters\n",
    "    for c in characters:\n",
    "        text = text.replace(c,\" \")     \n",
    "    # Split into tokens\n",
    "    # Normalize to lower case\n",
    "    tokens = text.lower().split()\n",
    "    return tokens"
   ]
  },
  {
   "cell_type": "code",
   "execution_count": 13,
   "metadata": {},
   "outputs": [],
   "source": [
    "def load_data(file_path):\n",
    "    with open (file_path + \"\\\\pos.txt\") as f:\n",
    "        pos_lines = f.readlines()\n",
    "    with open (file_path + \"\\\\neg.txt\") as f:\n",
    "        neg_lines = f.readlines()\n",
    "    data = []\n",
    "    for line in pos_lines:\n",
    "        tokens = tokenize(line, special_characters)\n",
    "        data.append(tokens)\n",
    "    for line in neg_lines:\n",
    "        tokens = tokenize(line, special_characters)\n",
    "        data.append(tokens)\n",
    "    random.shuffle(data)\n",
    "    return data"
   ]
  },
  {
   "cell_type": "code",
   "execution_count": 14,
   "metadata": {},
   "outputs": [],
   "source": [
    "cores = multiprocessing.cpu_count() # Count the number of cores in a computer"
   ]
  },
  {
   "cell_type": "code",
   "execution_count": 15,
   "metadata": {},
   "outputs": [],
   "source": [
    "data = load_data(\"C:\\\\Users\\\\andre\\\\msci-text-analytics-s20\")"
   ]
  },
  {
   "cell_type": "code",
   "execution_count": 16,
   "metadata": {},
   "outputs": [],
   "source": [
    "w2v_model = Word2Vec(data, size = 100, window = 5, min_count = 1, workers = cores-1)"
   ]
  },
  {
   "cell_type": "code",
   "execution_count": 20,
   "metadata": {},
   "outputs": [
    {
     "name": "stdout",
     "output_type": "stream",
     "text": [
      "Good: [('great', 0.8456581234931946), ('decent', 0.8125674724578857), ('nice', 0.7424853444099426), ('fantastic', 0.7375355362892151), ('terrific', 0.7183125615119934), ('wonderful', 0.7039445638656616), ('superb', 0.6815990805625916), ('bad', 0.6760596632957458), ('fabulous', 0.6742970943450928), ('okay', 0.6480566263198853), ('ok', 0.6248569488525391), ('awesome', 0.6114126443862915), ('amazing', 0.6109828948974609), ('impressive', 0.6010892987251282), ('perfect', 0.5950475335121155), ('excellent', 0.5876733660697937), ('brilliant', 0.5839992761611938), ('alright', 0.5836555361747742), ('reasonable', 0.5831148624420166), ('phenomenal', 0.579258143901825)]\n"
     ]
    }
   ],
   "source": [
    "print('Good: {}'.format(w2v_model.wv.most_similar(positive=[\"good\"], topn=20)))"
   ]
  },
  {
   "cell_type": "code",
   "execution_count": 21,
   "metadata": {},
   "outputs": [
    {
     "name": "stdout",
     "output_type": "stream",
     "text": [
      "Bad: [('horrible', 0.7059832215309143), ('good', 0.6760596632957458), ('terrible', 0.6743590235710144), ('poor', 0.640200138092041), ('awful', 0.6115643382072449), ('funny', 0.6091506481170654), ('strange', 0.6001135110855103), ('scary', 0.5823907852172852), ('pathetic', 0.5668982267379761), ('weird', 0.5657867193222046), ('horrendous', 0.5528634786605835), ('trivial', 0.5425273180007935), ('stupid', 0.5415877103805542), ('weak', 0.5332534313201904), ('spectacular', 0.5322089195251465), ('okay', 0.5309174060821533), ('horrid', 0.5286571383476257), ('fake', 0.527480959892273), ('stellar', 0.5270899534225464), ('alright', 0.5250728130340576)]\n"
     ]
    }
   ],
   "source": [
    "print('Bad: {}'.format(w2v_model.wv.most_similar(positive=[\"bad\"], topn=20)))"
   ]
  },
  {
   "cell_type": "code",
   "execution_count": 26,
   "metadata": {},
   "outputs": [
    {
     "name": "stdout",
     "output_type": "stream",
     "text": [
      "Good similar:[('decent', 0.821360170841217), ('great', 0.796782374382019), ('nice', 0.741490364074707), ('fantastic', 0.7374138832092285), ('terrific', 0.7125282287597656), ('wonderful', 0.706699550151825), ('superb', 0.7065791487693787), ('bad', 0.6604238152503967), ('reasonable', 0.6395441889762878), ('fabulous', 0.6274336576461792), ('amazing', 0.613029420375824), ('impressive', 0.5980493426322937), ('excellent', 0.5959839820861816), ('awesome', 0.5862232446670532), ('poor', 0.5851634740829468), ('cool', 0.5850679874420166), ('terrible', 0.5801501274108887), ('lovely', 0.5793958902359009), ('perfect', 0.5776446461677551), ('ok', 0.5750154256820679)]\n",
      "Bad similar:[('horrible', 0.6963096857070923), ('terrible', 0.6767602562904358), ('good', 0.6604238152503967), ('funny', 0.6327540874481201), ('awful', 0.625789225101471), ('poor', 0.592717707157135), ('weird', 0.5863698124885559), ('weak', 0.5855468511581421), ('strange', 0.5774862170219421), ('stupid', 0.5742812752723694), ('fake', 0.5486272573471069), ('obvious', 0.5481297969818115), ('scary', 0.5480870008468628), ('sad', 0.5468292832374573), ('wasy', 0.5418967604637146), ('lame', 0.5371614098548889), ('harsh', 0.5339930057525635), ('positive', 0.5308337807655334), ('shabby', 0.5269465446472168), ('disappointing', 0.5255157947540283)]\n"
     ]
    }
   ],
   "source": [
    "%run main \"C:\\\\Users\\\\andre\\\\msci-text-analytics-s20\""
   ]
  },
  {
   "cell_type": "code",
   "execution_count": 45,
   "metadata": {},
   "outputs": [
    {
     "name": "stdout",
     "output_type": "stream",
     "text": [
      "decent: [('good', 0.821360170841217), ('superb', 0.6956076622009277), ('reasonable', 0.6672420501708984), ('nice', 0.6601412892341614), ('great', 0.6571164131164551), ('terrific', 0.6545218229293823), ('fantastic', 0.642350971698761), ('adequate', 0.5844165086746216), ('wonderful', 0.582452654838562), ('poor', 0.5629048943519592), ('modest', 0.5598803162574768), ('consistent', 0.5598394274711609), ('excellent', 0.5545246601104736), ('impressive', 0.5496906042098999), ('exceptional', 0.5464913845062256), ('fair', 0.5392312407493591), ('muddy', 0.5391784906387329), ('strange', 0.5262154340744019), ('terrible', 0.5248317718505859), ('flawless', 0.5212446451187134)]\n",
      "great: [('fantastic', 0.906447172164917), ('wonderful', 0.8605281710624695), ('terrific', 0.8287990689277649), ('good', 0.7967823147773743), ('nice', 0.7626060247421265), ('perfect', 0.7577698826789856), ('fabulous', 0.7502351999282837), ('awesome', 0.7160434722900391), ('excellent', 0.708631157875061), ('superb', 0.7030040621757507), ('amazing', 0.6977542638778687), ('decent', 0.6571164131164551), ('fine', 0.6442269086837769), ('beautiful', 0.6176613569259644), ('perfectly', 0.6162856221199036), ('ok', 0.613289475440979), ('lovely', 0.6075752973556519), ('wonderfully', 0.5964131951332092), ('gorgeous', 0.5897563695907593), ('marvelous', 0.5880300402641296)]\n",
      "nice: [('lovely', 0.7831209897994995), ('great', 0.7626060247421265), ('beautiful', 0.7567712664604187), ('classy', 0.74150550365448), ('good', 0.7414904236793518), ('neat', 0.7403799295425415), ('fantastic', 0.70302414894104), ('gorgeous', 0.7029480934143066), ('wonderful', 0.6906552314758301), ('terrific', 0.6688551902770996), ('stylish', 0.6686543822288513), ('cool', 0.6637105941772461), ('decent', 0.6601412892341614), ('cute', 0.6593723297119141), ('attractive', 0.6591829061508179), ('sleek', 0.650506854057312), ('perfect', 0.640736997127533), ('inobtrusive', 0.6204260587692261), ('solid', 0.6158744096755981), ('pleasing', 0.6121435761451721)]\n",
      "fantastic: [('wonderful', 0.9199995994567871), ('terrific', 0.9127559661865234), ('great', 0.906447172164917), ('fabulous', 0.8646541833877563), ('superb', 0.8141038417816162), ('amazing', 0.7800633907318115), ('awesome', 0.7648770809173584), ('perfect', 0.7432340383529663), ('good', 0.7374138832092285), ('excellent', 0.7183871865272522), ('nice', 0.70302414894104), ('marvelous', 0.6829262971878052), ('beautiful', 0.6815717220306396), ('gorgeous', 0.6667060852050781), ('lovely', 0.665756106376648), ('phenomenal', 0.6610839366912842), ('brilliant', 0.6553460359573364), ('flawless', 0.6546719074249268), ('decent', 0.642350971698761), ('terrible', 0.6417045593261719)]\n",
      "awful: [('terrible', 0.8504993319511414), ('horrible', 0.8480653762817383), ('disgusting', 0.7992334365844727), ('alright', 0.7452888488769531), ('aweful', 0.7333709597587585), ('horrid', 0.7225385308265686), ('funny', 0.7068096399307251), ('gross', 0.7062627673149109), ('overwhelming', 0.6805111765861511), ('overpowering', 0.6702961921691895), ('unbearable', 0.6614392995834351), ('amazing', 0.660792350769043), ('horrendous', 0.658892810344696), ('weird', 0.653461754322052), ('okay', 0.643844485282898), ('repulsive', 0.6371996402740479), ('atrocious', 0.6368112564086914), ('unpleasant', 0.6349005699157715), ('awesome', 0.6259027123451233), ('bad', 0.625789225101471)]\n",
      "poor: [('lousy', 0.7086180448532104), ('shoddy', 0.7054804563522339), ('terrible', 0.6432090401649475), ('horrible', 0.6390442252159119), ('questionable', 0.6288480758666992), ('superb', 0.6253058910369873), ('stellar', 0.6184293031692505), ('assurance', 0.6162406206130981), ('weak', 0.6112936735153198), ('inconsistent', 0.6089415550231934), ('clever', 0.6082888841629028), ('horrendous', 0.604863166809082), ('prettiness', 0.6013655662536621), ('lacking', 0.5971954464912415), ('evident', 0.596743106842041), ('bad', 0.5927176475524902), ('substandard', 0.5923818349838257), ('good', 0.5851634740829468), ('mediocre', 0.5844763517379761), ('satisfactory', 0.5828990936279297)]\n"
     ]
    },
    {
     "name": "stderr",
     "output_type": "stream",
     "text": [
      "C:\\Users\\andre\\msci-text-analytics-s20\\Assignment 3\\inference.py:10: DeprecationWarning: Call to deprecated `similar_by_word` (Method will be removed in 4.0.0, use self.wv.similar_by_word() instead).\n",
      "  similar = w2v_model.similar_by_word(w, 20)\n"
     ]
    }
   ],
   "source": [
    "%run inference \"C:\\\\Users\\\\andre\\\\msci-text-analytics-s20\\\\Assignment 3\\\\test.txt\""
   ]
  },
  {
   "cell_type": "code",
   "execution_count": null,
   "metadata": {},
   "outputs": [],
   "source": []
  }
 ],
 "metadata": {
  "kernelspec": {
   "display_name": "Python 3",
   "language": "python",
   "name": "python3"
  },
  "language_info": {
   "codemirror_mode": {
    "name": "ipython",
    "version": 3
   },
   "file_extension": ".py",
   "mimetype": "text/x-python",
   "name": "python",
   "nbconvert_exporter": "python",
   "pygments_lexer": "ipython3",
   "version": "3.6.10"
  }
 },
 "nbformat": 4,
 "nbformat_minor": 4
}
