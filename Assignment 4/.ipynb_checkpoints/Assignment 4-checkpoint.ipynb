{
 "cells": [
  {
   "cell_type": "code",
   "execution_count": 1,
   "metadata": {},
   "outputs": [
    {
     "name": "stderr",
     "output_type": "stream",
     "text": [
      "Using TensorFlow backend.\n"
     ]
    }
   ],
   "source": [
    "import numpy as np\n",
    "import pandas as pd\n",
    "import os\n",
    "import sys\n",
    "from gensim.models import Word2Vec\n",
    "from sklearn.utils import shuffle\n",
    "import tensorflow as tf\n",
    "from tensorflow import keras\n",
    "from tensorflow.python.keras.preprocessing.text import Tokenizer\n",
    "from tensorflow.python.keras.preprocessing.sequence import pad_sequences\n",
    "from tensorflow.keras import layers\n",
    "from keras.layers import Dense, Embedding, Dropout, Activation, Flatten\n",
    "from keras.regularizers import l2\n",
    "from keras.utils import to_categorical\n",
    "from keras.models import Sequential"
   ]
  },
  {
   "cell_type": "code",
   "execution_count": 2,
   "metadata": {},
   "outputs": [],
   "source": [
    "def load_data(file_path):\n",
    "\tpos_train = pd.read_csv(os.path.join(file_path + \"\\\\pos_train.csv\"), sep = 'delimiter', names = ['Review'], engine = 'python')\n",
    "\tneg_train = pd.read_csv(os.path.join(file_path + \"\\\\neg_train.csv\"), sep = 'delimiter', names = ['Review'], engine = 'python')\n",
    "\tpos_test = pd.read_csv(os.path.join(file_path + \"\\\\pos_test.csv\"), sep = 'delimiter', names = ['Review'], engine = 'python')\n",
    "\tneg_test = pd.read_csv(os.path.join(file_path + \"\\\\neg_test.csv\"), sep = 'delimiter', names = ['Review'], engine = 'python')\n",
    "\tpos_vali = pd.read_csv(os.path.join(file_path + \"\\\\pos_vali.csv\"), sep = 'delimiter', names = ['Review'], engine = 'python')\n",
    "\tneg_vali = pd.read_csv(os.path.join(file_path + \"\\\\neg_vali.csv\"), sep = 'delimiter', names = ['Review'], engine = 'python')\n",
    "\treturn pos_train,neg_train,pos_test,neg_test,pos_vali,neg_vali"
   ]
  },
  {
   "cell_type": "code",
   "execution_count": 3,
   "metadata": {},
   "outputs": [],
   "source": [
    "file_path = \"C:\\\\Users\\\\andre\\\\msci-text-analytics-s20\\\\Assignment 1\\\\data\"\n",
    "pos_train,neg_train,pos_test,neg_test,pos_vali,neg_vali = load_data(file_path) "
   ]
  },
  {
   "cell_type": "code",
   "execution_count": 4,
   "metadata": {},
   "outputs": [],
   "source": [
    "pos_train['target'] = 1\n",
    "neg_train['target'] = 0\n",
    "train = pd.concat([pos_train,neg_train])\n",
    "train = shuffle(train, random_state=0).reset_index(drop=True)\n",
    "\n",
    "pos_test['target'] = 1\n",
    "neg_test['target'] = 0\n",
    "test = pd.concat([pos_test,neg_test])\n",
    "test = shuffle(test, random_state=0).reset_index(drop=True)\n",
    "\n",
    "pos_vali['target'] = 1\n",
    "neg_vali['target'] = 0\n",
    "vali = pd.concat([pos_vali,neg_vali])\n",
    "vali = shuffle(vali, random_state=0).reset_index(drop=True)"
   ]
  },
  {
   "cell_type": "code",
   "execution_count": 5,
   "metadata": {},
   "outputs": [],
   "source": [
    "x_train = train['Review'].to_numpy()\n",
    "y_train = train['target'].to_numpy()\n",
    "x_test = test['Review'].to_numpy()\n",
    "y_test = test['target'].to_numpy()\n",
    "x_vali = vali['Review'].to_numpy()\n",
    "y_vali = vali['target'].to_numpy()"
   ]
  },
  {
   "cell_type": "code",
   "execution_count": 6,
   "metadata": {},
   "outputs": [],
   "source": [
    "tokenizer_obj = Tokenizer()\n",
    "tokenizer_obj.fit_on_texts(pd.concat([train,test,vali]))"
   ]
  },
  {
   "cell_type": "code",
   "execution_count": 7,
   "metadata": {},
   "outputs": [],
   "source": [
    "x_train_sequences = tokenizer_obj.texts_to_sequences(x_train)\n",
    "x_test_sequences = tokenizer_obj.texts_to_sequences(x_test)\n",
    "x_vali_sequences = tokenizer_obj.texts_to_sequences(x_vali)"
   ]
  },
  {
   "cell_type": "code",
   "execution_count": 8,
   "metadata": {},
   "outputs": [],
   "source": [
    "max_length_arr = [len(s) for s in (x_train_sequences + x_test_sequences + x_vali_sequences)]\n",
    "max_length = max(max_length_arr)"
   ]
  },
  {
   "cell_type": "code",
   "execution_count": 11,
   "metadata": {},
   "outputs": [],
   "source": [
    "x_train_padded = pad_sequences(x_train_sequences, maxlen=max_length, padding='post', truncating='post')\n",
    "\n",
    "x_test_padded = pad_sequences(x_test_sequences, maxlen=max_length, padding='post', truncating='post')\n",
    "\n",
    "x_vali_padded = pad_sequences(x_vali_sequences, maxlen=max_length, padding='post', truncating='post')"
   ]
  },
  {
   "cell_type": "code",
   "execution_count": 12,
   "metadata": {},
   "outputs": [],
   "source": [
    "y_train = to_categorical(np.asarray(y_train))\n",
    "y_test = to_categorical(np.asarray(y_test))\n",
    "y_vali = to_categorical(np.asarray(y_vali))"
   ]
  },
  {
   "cell_type": "code",
   "execution_count": 13,
   "metadata": {},
   "outputs": [],
   "source": [
    "w2v_model = Word2Vec.load(\"C:\\\\Users\\\\andre\\\\msci-text-analytics-s20\\\\Assignment 3\\\\data\\\\w2v.model\")"
   ]
  },
  {
   "cell_type": "code",
   "execution_count": 14,
   "metadata": {},
   "outputs": [],
   "source": [
    "pretrained_weights = w2v_model.wv.vectors\n",
    "vocab_size, emdedding_size = pretrained_weights.shape"
   ]
  },
  {
   "cell_type": "code",
   "execution_count": 19,
   "metadata": {},
   "outputs": [
    {
     "name": "stdout",
     "output_type": "stream",
     "text": [
      "Model: \"sequential_2\"\n",
      "_________________________________________________________________\n",
      "Layer (type)                 Output Shape              Param #   \n",
      "=================================================================\n",
      "embedding_2 (Embedding)      (None, 3, 100)            8735000   \n",
      "_________________________________________________________________\n",
      "dense_2 (Dense)              (None, 3, 64)             6464      \n",
      "_________________________________________________________________\n",
      "flatten_1 (Flatten)          (None, 192)               0         \n",
      "_________________________________________________________________\n",
      "dropout_2 (Dropout)          (None, 192)               0         \n",
      "_________________________________________________________________\n",
      "output_layer (Dense)         (None, 2)                 386       \n",
      "=================================================================\n",
      "Total params: 8,741,850\n",
      "Trainable params: 8,741,850\n",
      "Non-trainable params: 0\n",
      "_________________________________________________________________\n"
     ]
    }
   ],
   "source": [
    "model = Sequential()\n",
    "model.add(Embedding(input_dim=vocab_size, output_dim=emdedding_size, input_length=max_length,\n",
    "                    weights=[pretrained_weights]))\n",
    "# model.add(w2v_model.wv.get_keras_embedding(train_embeddings=False))\n",
    "model.add(Dense(64, activation='sigmoid', kernel_regularizer= l2(0.001)))\n",
    "model.add(Flatten())\n",
    "model.add(Dropout(0.4))\n",
    "model.add(Dense(2, activation = 'softmax', kernel_regularizer= l2(0.001), name='output_layer'))\n",
    "\n",
    "model.summary()\n",
    "model.compile(loss = 'binary_crossentropy', optimizer = 'adam', metrics = ['accuracy'])"
   ]
  },
  {
   "cell_type": "code",
   "execution_count": 20,
   "metadata": {},
   "outputs": [
    {
     "name": "stderr",
     "output_type": "stream",
     "text": [
      "C:\\Users\\andre\\.julia\\conda\\3\\lib\\site-packages\\tensorflow\\python\\framework\\indexed_slices.py:434: UserWarning: Converting sparse IndexedSlices to a dense Tensor of unknown shape. This may consume a large amount of memory.\n",
      "  \"Converting sparse IndexedSlices to a dense Tensor of unknown shape. \"\n"
     ]
    },
    {
     "name": "stdout",
     "output_type": "stream",
     "text": [
      "Train on 640000 samples, validate on 80000 samples\n",
      "Epoch 1/10\n",
      "640000/640000 [==============================] - 79s 123us/step - loss: 0.7278 - accuracy: 0.5002 - val_loss: 0.7009 - val_accuracy: 0.5017\n",
      "Epoch 2/10\n",
      "640000/640000 [==============================] - 80s 125us/step - loss: 0.6977 - accuracy: 0.5000 - val_loss: 0.6959 - val_accuracy: 0.5017\n",
      "Epoch 3/10\n",
      "640000/640000 [==============================] - 84s 131us/step - loss: 0.6948 - accuracy: 0.5000 - val_loss: 0.6939 - val_accuracy: 0.5000\n",
      "Epoch 4/10\n",
      "640000/640000 [==============================] - 82s 129us/step - loss: 0.6943 - accuracy: 0.4992 - val_loss: 0.6943 - val_accuracy: 0.5015\n",
      "Epoch 5/10\n",
      "640000/640000 [==============================] - 82s 127us/step - loss: 0.6941 - accuracy: 0.5007 - val_loss: 0.6936 - val_accuracy: 0.5000\n",
      "Epoch 6/10\n",
      "640000/640000 [==============================] - 80s 125us/step - loss: 0.6940 - accuracy: 0.5000 - val_loss: 0.6941 - val_accuracy: 0.5000\n",
      "Epoch 7/10\n",
      "640000/640000 [==============================] - 82s 128us/step - loss: 0.6939 - accuracy: 0.5000 - val_loss: 0.6938 - val_accuracy: 0.5017\n",
      "Epoch 8/10\n",
      "640000/640000 [==============================] - 81s 126us/step - loss: 0.6939 - accuracy: 0.5011 - val_loss: 0.6940 - val_accuracy: 0.5017\n",
      "Epoch 9/10\n",
      "640000/640000 [==============================] - 84s 131us/step - loss: 0.6938 - accuracy: 0.5005 - val_loss: 0.6941 - val_accuracy: 0.5017\n",
      "Epoch 10/10\n",
      "640000/640000 [==============================] - 85s 132us/step - loss: 0.6937 - accuracy: 0.5011 - val_loss: 0.6934 - val_accuracy: 0.5000\n"
     ]
    },
    {
     "data": {
      "text/plain": [
       "<keras.callbacks.callbacks.History at 0x1fe6539b940>"
      ]
     },
     "execution_count": 20,
     "metadata": {},
     "output_type": "execute_result"
    }
   ],
   "source": [
    "model.fit(x_train_padded, y_train, batch_size=1024, epochs=3, validation_data=(x_vali_padded, y_vali))"
   ]
  },
  {
   "cell_type": "code",
   "execution_count": 21,
   "metadata": {},
   "outputs": [
    {
     "name": "stdout",
     "output_type": "stream",
     "text": [
      "80000/80000 [==============================] - 0s 2us/step\n",
      "Accuracy on the test set = 0.500\n"
     ]
    }
   ],
   "source": [
    "score, acc = model.evaluate(x_test_padded, y_test,\n",
    "                            batch_size=1024)\n",
    "print(\"Accuracy on the test set = {0:4.3f}\".format(acc))"
   ]
  },
  {
   "cell_type": "code",
   "execution_count": null,
   "metadata": {},
   "outputs": [],
   "source": []
  }
 ],
 "metadata": {
  "kernelspec": {
   "display_name": "Python 3",
   "language": "python",
   "name": "python3"
  },
  "language_info": {
   "codemirror_mode": {
    "name": "ipython",
    "version": 3
   },
   "file_extension": ".py",
   "mimetype": "text/x-python",
   "name": "python",
   "nbconvert_exporter": "python",
   "pygments_lexer": "ipython3",
   "version": "3.6.10"
  }
 },
 "nbformat": 4,
 "nbformat_minor": 4
}
